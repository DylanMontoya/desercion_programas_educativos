{
 "cells": [
  {
   "cell_type": "code",
   "execution_count": 1,
   "id": "35ead8b8",
   "metadata": {},
   "outputs": [],
   "source": [
    "import requests\n",
    "from bs4 import BeautifulSoup\n",
    "import pandas as pd\n",
    "import matplotlib.pyplot as plt\n",
    "import seaborn as sns"
   ]
  },
  {
   "cell_type": "code",
   "execution_count": 2,
   "id": "a02ed1bf",
   "metadata": {},
   "outputs": [],
   "source": [
    "# Links de 3 universidades de medellín, poli (presencial y virtual), upb y tdea\n",
    "url_poli_pr = 'https://www.poli.edu.co/profesional/derecho-medellin'\n",
    "url_poli_vr = 'https://www.poli.edu.co/profesional/derecho-virtual'\n",
    "url_upb = 'https://www.upb.edu.co/es/pregrados/derecho-medellin'\n",
    "url_tda = 'https://inscripcionestdea.com/facultad-de-derecho-y-ciencias-forenses/derecho'"
   ]
  },
  {
   "cell_type": "code",
   "execution_count": 3,
   "id": "1f3545e4",
   "metadata": {},
   "outputs": [],
   "source": [
    "def extraction(url):\n",
    "    \"\"\"\n",
    "    Extrae informacion de las pag web\n",
    "    url: link de la universidad\n",
    "    retorna: el cuerpo del html\n",
    "    \"\"\"\n",
    "    response = requests.get(url)\n",
    "    soup = BeautifulSoup(response.text, 'html.parser')\n",
    "    body_part = soup.body\n",
    "    return body_part"
   ]
  },
  {
   "cell_type": "code",
   "execution_count": 4,
   "id": "5e233281",
   "metadata": {
    "scrolled": true
   },
   "outputs": [],
   "source": [
    "def extraction_poli(df, url_poli):\n",
    "    \"\"\"\n",
    "    Extrae informacion de la web del poli tanto para presencial como para virtual\n",
    "    df: dataframe para poblar, url_poli: link del sitio web (presencial y virtual)\n",
    "    retorna: las primeras dos filas del dataframe\n",
    "    \"\"\"\n",
    "    institucion = 'Politecnico Grancolombiano'\n",
    "    try:\n",
    "        info_poli = extraction(url=url_poli).find(class_='info-curso').find_all('li')\n",
    "        programa = extraction(url=url_poli).find('h1').text.split()[0]\n",
    "        duracion = int(info_poli[5].text.split()[1])\n",
    "        costo = float(info_poli[4].text.split()[-1].replace('.', ''))\n",
    "        modalidad = extraction(url=url_poli).find_all(class_='modalidades-curso')[0].find('img').text.split()[0]\n",
    "        if \"resolución\" in extraction(url=url_poli).find(class_=\"col-xs-12 infoAdicionalPrograma\").text.lower().split():\n",
    "            acreditacion = \"Alta calidad\"\n",
    "    except Exception as e:\n",
    "        print(f'Error al extraer información de {institucion}')\n",
    "    \n",
    "    if url_poli == url_poli_pr:\n",
    "        df.loc[0, 'institucion'] = institucion\n",
    "        df.loc[0, 'nombre_programa'] = programa\n",
    "        df.loc[0, 'duracion_semestre'] = duracion\n",
    "        df.loc[0, 'costo_cop'] = costo\n",
    "        df.loc[0, 'modalidad'] = modalidad\n",
    "        df.loc[0, 'acreditacion'] = acreditacion\n",
    "        \n",
    "    else:\n",
    "        df.loc[1, 'institucion'] = institucion\n",
    "        df.loc[1, 'nombre_programa'] = programa\n",
    "        df.loc[1, 'duracion_semestre'] = duracion\n",
    "        df.loc[1, 'costo_cop'] = costo\n",
    "        df.loc[1, 'modalidad'] = modalidad\n",
    "        df.loc[1, 'acreditacion'] = acreditacion\n",
    "\n",
    "    return df"
   ]
  },
  {
   "cell_type": "code",
   "execution_count": 5,
   "id": "66da808a",
   "metadata": {},
   "outputs": [],
   "source": [
    "def extraction_upb(df):\n",
    "    \"\"\"\n",
    "    Extrae informacion de la web de la upb\n",
    "    df: dataframe para poblar\n",
    "    retorna: la tercera fila del dataframe\n",
    "    \"\"\"\n",
    "    institucion = 'Universidad Pontificia Bolivariana'\n",
    "    try:\n",
    "        programa = extraction(url=url_upb).find('h1').text.strip().replace('\\n', '').replace('\\t', '').split()[0]\n",
    "        duracion = int(extraction(url=url_upb).find_all(class_='infoExtra')[0].find_all('div')[1].text.split(':')[1].split()[0])\n",
    "        costo = float(extraction(url=url_upb).find_all(class_='col-md-6 col-xs-6')[1].text.replace('$', '').replace('.', ''))\n",
    "        modalidad = extraction(url=url_upb).find_all(class_='UPBtextoIconosCirculares')[-1].text\n",
    "        if \"resolución\" in extraction(url=url_upb).find_all(class_='intro')[0].text.split('.')[0].lower().split():\n",
    "            acreditacion = \"Alta calidad\"\n",
    "    except Exception as e:\n",
    "        print(f'Error al extraer información de {institucion}')\n",
    "    \n",
    "    df.loc[2, 'institucion'] = institucion\n",
    "    df.loc[2, 'nombre_programa'] = programa\n",
    "    df.loc[2, 'duracion_semestre'] = duracion\n",
    "    df.loc[2, 'costo_cop'] = costo\n",
    "    df.loc[2, 'modalidad'] = modalidad\n",
    "    df.loc[2, 'acreditacion'] = acreditacion\n",
    "    \n",
    "    return df"
   ]
  },
  {
   "cell_type": "code",
   "execution_count": 6,
   "id": "534f0a0e",
   "metadata": {},
   "outputs": [],
   "source": [
    "def extraction_tda(df):\n",
    "    \"\"\"\n",
    "    Extrae informacion de la web del tdea\n",
    "    df: dataframe para poblar\n",
    "    retorna: la cuarta fila del dataframe\n",
    "    \"\"\"\n",
    "    institucion = 'Tecnologico de Antioquia'\n",
    "    try:\n",
    "        programa = extraction(url=url_tda).find('h1').text\n",
    "        duracion = int(extraction(url=url_tda).find_all('h2')[4].text.split()[0])\n",
    "        costo =  float(extraction(url=url_tda).find_all('h2')[10].text.split(':')[2].split()[0])*1160000 # 1 SMMLV = 1160000\n",
    "        modalidad = extraction(url=url_tda).find_all('h2')[6].text\n",
    "        if \"resolución\" in extraction(url=url_tda).find_all('h2')[8].text.lower().split():\n",
    "            acreditacion = \"Alta calidad\"\n",
    "    except Exception as e:\n",
    "        print(f'Error al extraer información de {institucion}')\n",
    "    \n",
    "    df.loc[3, 'institucion'] = institucion\n",
    "    df.loc[3, 'nombre_programa'] = programa\n",
    "    df.loc[3, 'duracion_semestre'] = duracion\n",
    "    df.loc[3, 'costo_cop'] = costo\n",
    "    df.loc[3, 'modalidad'] = modalidad\n",
    "    df.loc[3, 'acreditacion'] = acreditacion\n",
    "    \n",
    "    return df"
   ]
  },
  {
   "cell_type": "code",
   "execution_count": 7,
   "id": "98400ebc",
   "metadata": {},
   "outputs": [
    {
     "data": {
      "text/html": [
       "<div>\n",
       "<style scoped>\n",
       "    .dataframe tbody tr th:only-of-type {\n",
       "        vertical-align: middle;\n",
       "    }\n",
       "\n",
       "    .dataframe tbody tr th {\n",
       "        vertical-align: top;\n",
       "    }\n",
       "\n",
       "    .dataframe thead th {\n",
       "        text-align: right;\n",
       "    }\n",
       "</style>\n",
       "<table border=\"1\" class=\"dataframe\">\n",
       "  <thead>\n",
       "    <tr style=\"text-align: right;\">\n",
       "      <th></th>\n",
       "      <th>institucion</th>\n",
       "      <th>nombre_programa</th>\n",
       "      <th>duracion_semestre</th>\n",
       "      <th>costo_cop</th>\n",
       "      <th>modalidad</th>\n",
       "      <th>acreditacion</th>\n",
       "    </tr>\n",
       "  </thead>\n",
       "  <tbody>\n",
       "    <tr>\n",
       "      <th>0</th>\n",
       "      <td>Politecnico Grancolombiano</td>\n",
       "      <td>Derecho</td>\n",
       "      <td>8</td>\n",
       "      <td>3595000</td>\n",
       "      <td>Presencial</td>\n",
       "      <td>Alta calidad</td>\n",
       "    </tr>\n",
       "    <tr>\n",
       "      <th>1</th>\n",
       "      <td>Politecnico Grancolombiano</td>\n",
       "      <td>Derecho</td>\n",
       "      <td>10</td>\n",
       "      <td>2472000</td>\n",
       "      <td>Virtual</td>\n",
       "      <td>Alta calidad</td>\n",
       "    </tr>\n",
       "    <tr>\n",
       "      <th>2</th>\n",
       "      <td>Universidad Pontificia Bolivariana</td>\n",
       "      <td>Derecho</td>\n",
       "      <td>10</td>\n",
       "      <td>11293100</td>\n",
       "      <td>Presencial</td>\n",
       "      <td>Alta calidad</td>\n",
       "    </tr>\n",
       "    <tr>\n",
       "      <th>3</th>\n",
       "      <td>Tecnologico de Antioquia</td>\n",
       "      <td>Derecho</td>\n",
       "      <td>10</td>\n",
       "      <td>2900000</td>\n",
       "      <td>Presencial</td>\n",
       "      <td>Alta calidad</td>\n",
       "    </tr>\n",
       "  </tbody>\n",
       "</table>\n",
       "</div>"
      ],
      "text/plain": [
       "                          institucion nombre_programa  duracion_semestre  \\\n",
       "0          Politecnico Grancolombiano         Derecho                  8   \n",
       "1          Politecnico Grancolombiano         Derecho                 10   \n",
       "2  Universidad Pontificia Bolivariana         Derecho                 10   \n",
       "3            Tecnologico de Antioquia         Derecho                 10   \n",
       "\n",
       "   costo_cop   modalidad  acreditacion  \n",
       "0    3595000  Presencial  Alta calidad  \n",
       "1    2472000     Virtual  Alta calidad  \n",
       "2   11293100  Presencial  Alta calidad  \n",
       "3    2900000  Presencial  Alta calidad  "
      ]
     },
     "execution_count": 7,
     "metadata": {},
     "output_type": "execute_result"
    }
   ],
   "source": [
    "def transform_data():\n",
    "    \"\"\"\n",
    "    Realiza proceso de extraccion y transformacion de tipos de variable\n",
    "    retorna: el dataframe final\n",
    "    \"\"\"\n",
    "    df = pd.DataFrame()\n",
    "    extraction_poli(df, url_poli_pr)\n",
    "    extraction_poli(df, url_poli_vr)\n",
    "    extraction_upb(df)\n",
    "    extraction_tda(df)\n",
    "    \n",
    "    df['costo_cop'] = df['costo_cop'].astype(int)\n",
    "    df['duracion_semestre'] = df['duracion_semestre'].astype(int)\n",
    "    \n",
    "    return df\n",
    "df = transform_data()\n",
    "df"
   ]
  },
  {
   "cell_type": "code",
   "execution_count": 8,
   "id": "dfaf6ef5",
   "metadata": {},
   "outputs": [
    {
     "name": "stdout",
     "output_type": "stream",
     "text": [
      "<class 'pandas.core.frame.DataFrame'>\n",
      "Int64Index: 4 entries, 0 to 3\n",
      "Data columns (total 6 columns):\n",
      " #   Column             Non-Null Count  Dtype \n",
      "---  ------             --------------  ----- \n",
      " 0   institucion        4 non-null      object\n",
      " 1   nombre_programa    4 non-null      object\n",
      " 2   duracion_semestre  4 non-null      int32 \n",
      " 3   costo_cop          4 non-null      int32 \n",
      " 4   modalidad          4 non-null      object\n",
      " 5   acreditacion       4 non-null      object\n",
      "dtypes: int32(2), object(4)\n",
      "memory usage: 364.0+ bytes\n"
     ]
    }
   ],
   "source": [
    "df.info()"
   ]
  },
  {
   "cell_type": "code",
   "execution_count": 9,
   "id": "e56194da",
   "metadata": {},
   "outputs": [
    {
     "data": {
      "image/png": "[encoded data removed]",
      "text/plain": [
       "<Figure size 1000x500 with 1 Axes>"
      ]
     },
     "metadata": {},
     "output_type": "display_data"
    }
   ],
   "source": [
    "def load_data(df):\n",
    "    \"\"\"\n",
    "    Visualizacion de los datos y carga los datos a un excel\n",
    "    df: dataframe final\n",
    "    \"\"\"\n",
    "    fig, ax = plt.subplots(figsize=(10, 5))\n",
    "\n",
    "    sns.set_style('dark')\n",
    "    sns.set_palette('viridis')\n",
    "    sns.barplot(data=df, x='institucion', y='costo_cop', hue='modalidad')\n",
    "    ax.set_xlabel('Instituciones de Medellín')\n",
    "    ax.set_ylabel('Costo de matricula en COP')\n",
    "    ax.set_title('Programa de Derecho')\n",
    "    plt.show()\n",
    "    \n",
    "    df.to_excel('universidades_med.xlsx', index=False)\n",
    "\n",
    "load_data(df)"
   ]
  },
  {
   "cell_type": "markdown",
   "id": "97a4dd2e",
   "metadata": {},
   "source": [
    "## Tablero de visualización\n",
    "[Tableau Dylan](https://public.tableau.com/app/profile/dylan.montoya/viz/Derecho-UniversidadesdeMedellin/Dashboard1)"
   ]
  }
 ],
 "metadata": {
  "kernelspec": {
   "display_name": "Python 3 (ipykernel)",
   "language": "python",
   "name": "python3"
  },
  "language_info": {
   "codemirror_mode": {
    "name": "ipython",
    "version": 3
   },
   "file_extension": ".py",
   "mimetype": "text/x-python",
   "name": "python",
   "nbconvert_exporter": "python",
   "pygments_lexer": "ipython3",
   "version": "3.9.13"
  }
 },
 "nbformat": 4,
 "nbformat_minor": 5
}
